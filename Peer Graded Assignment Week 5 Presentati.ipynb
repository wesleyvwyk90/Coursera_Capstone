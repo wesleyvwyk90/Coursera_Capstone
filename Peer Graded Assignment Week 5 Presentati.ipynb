{
    "cells": [
        {
            "cell_type": "markdown",
            "metadata": {
                "collapsed": true
            },
            "source": "# Blogpost"
        },
        {
            "cell_type": "markdown",
            "metadata": {},
            "source": "For my capstone project I used multiple data sets to establish which areas in the Manhattan Area has the least pool halls so that I client can decide in which area he would like to open one.\n\nThe data that I used for this capstone project is the Foursquare venues categories to obtain my data as well as a data set that is freely available on geo.nyu.edu so that I could scrape the location coordinates and neighbourhood data from there. The api key that I used from foursquare is: 4bf58dd8d48988d1e3931735 The data that I used was mostly structured and I had to make small modifications to the data here and there to fit my model.\n\nI used a pretty straight forward methodology which included the following steps:\n\nStep 1\nImporting of libraries: I imported all the lbraries that I needed to perform the data analysis. The most important being numpy and pandas. I also used geocoders for my maps as well as folium.\nStep 2\nDownloading and exploring the datasets: I used a free dataset to scrape information around location coordinates which can be found on geo.nyu.edu\nStep 3\nI transferred the data into a pandas dataframe\nStep 4\nI will be using the Foursquare venues categories to obtain my data as well as a data set that is freely available on geo.nyu.edu so that I can scrape the location coordinates and neighbourhood data from there. The api key that I will be using from foursquare is: 4bf58dd8d48988d1e3931735 The data that I will be using is mostly structured and I will have to make small modifications to the data here and there to fit my model.\nStep 5\nI drew up a table which list the amounts of venues in the area to see which areas have the least pool halls and from there one can make the assumption that an area needs a pool hall.\n\nI then identified certain areas which had one or less pool halls and highlighted them on a map of Manhattan which can be seen in my report on GitHub https://github.com/wesleyvwyk90/Coursera_Capstone/blob/master/Peer%20Graded%20Assignment%20Week%205%20Report.ipynb"
        },
        {
            "cell_type": "code",
            "execution_count": null,
            "metadata": {},
            "outputs": [],
            "source": ""
        },
        {
            "cell_type": "code",
            "execution_count": null,
            "metadata": {},
            "outputs": [],
            "source": ""
        }
    ],
    "metadata": {
        "kernelspec": {
            "display_name": "Python 3.6",
            "language": "python",
            "name": "python3"
        },
        "language_info": {
            "codemirror_mode": {
                "name": "ipython",
                "version": 3
            },
            "file_extension": ".py",
            "mimetype": "text/x-python",
            "name": "python",
            "nbconvert_exporter": "python",
            "pygments_lexer": "ipython3",
            "version": "3.6.9"
        }
    },
    "nbformat": 4,
    "nbformat_minor": 1
}