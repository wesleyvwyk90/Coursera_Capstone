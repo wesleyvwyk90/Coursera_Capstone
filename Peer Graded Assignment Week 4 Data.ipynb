{
    "cells": [
        {
            "cell_type": "markdown",
            "metadata": {
                "collapsed": true
            },
            "source": "### Data\n\nThe data that I will be using for this capstone project is to determine the best location to open a Pool Hall in the New York area.\n\nI will be using the Foursquare venues categories to obtain my data as well as a data set that is freely available on geo.nyu.edu so that I can scrape the location coordinates and neighbourhood data from there.\n\nThe api key that I will be using from foursquare is: 4bf58dd8d48988d1e3931735\n\nThe data that I will be using is mostly structured and "
        },
        {
            "cell_type": "code",
            "execution_count": null,
            "metadata": {},
            "outputs": [],
            "source": ""
        }
    ],
    "metadata": {
        "kernelspec": {
            "display_name": "Python 3.6",
            "language": "python",
            "name": "python3"
        },
        "language_info": {
            "codemirror_mode": {
                "name": "ipython",
                "version": 3
            },
            "file_extension": ".py",
            "mimetype": "text/x-python",
            "name": "python",
            "nbconvert_exporter": "python",
            "pygments_lexer": "ipython3",
            "version": "3.6.9"
        }
    },
    "nbformat": 4,
    "nbformat_minor": 1
}