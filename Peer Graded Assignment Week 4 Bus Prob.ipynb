{
    "cells": [
        {
            "cell_type": "markdown",
            "metadata": {
                "collapsed": true
            },
            "source": "### INTRODUCTION\n\nNew York City is a popular destination for both business and tourism, it is also the most densely populated city in the USA. The city boasts as the financial capital and is home to millions of people who work in the city and who in turn seek opportunities to wind down from their work days.\n\nThis poses great opportunity for anyone who is considerring recreational hang out spots and bars, however there are already many of these spots in the city and therefore one must make use of data analysis to consider whether one's idea will work.\n\nThe purpose of this report is to consider where in New York will be the best location to open a Pool Hall.\n\n### Business Problem\n\nThe city of New York is known for its world class bars and pool halls. A client may approach me to consider opening a pool hall in the city, however as ther is already many pool halls in the city, we need to evaluate whether the idea is feesable and where would be the best location to open this pool hall, not only so that we can enjoy immediate success but also ensure the longevity of the business.\n\n### Finding a location\n\nWe might want to consider locations in both up market areas as well as around areas where there are a lot of people who may frequent malls or other ammenities.\n\n"
        }
    ],
    "metadata": {
        "kernelspec": {
            "display_name": "Python 3.6",
            "language": "python",
            "name": "python3"
        },
        "language_info": {
            "codemirror_mode": {
                "name": "ipython",
                "version": 3
            },
            "file_extension": ".py",
            "mimetype": "text/x-python",
            "name": "python",
            "nbconvert_exporter": "python",
            "pygments_lexer": "ipython3",
            "version": "3.6.9"
        }
    },
    "nbformat": 4,
    "nbformat_minor": 1
}